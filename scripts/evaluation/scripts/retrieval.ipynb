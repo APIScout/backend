{
 "cells": [
  {
   "cell_type": "code",
   "execution_count": 93,
   "id": "initial_id",
   "metadata": {
    "collapsed": true,
    "ExecuteTime": {
     "end_time": "2024-04-29T12:11:38.602667Z",
     "start_time": "2024-04-29T12:11:38.599556Z"
    }
   },
   "outputs": [],
   "source": [
    "from tqdm import tqdm\n",
    "from yaml import safe_load\n",
    "from elasticsearch import Elasticsearch\n",
    "from elasticsearch.helpers import scan"
   ]
  },
  {
   "cell_type": "markdown",
   "source": [
    "## Configuration"
   ],
   "metadata": {
    "collapsed": false
   },
   "id": "34cb59a8e224f440"
  },
  {
   "cell_type": "code",
   "outputs": [],
   "source": [
    "# Retrieve configuration file for elastic\n",
    "with open('../../config/debug.config.yml') as config:\n",
    "    config_file = safe_load(config)['elastic']"
   ],
   "metadata": {
    "collapsed": false,
    "ExecuteTime": {
     "end_time": "2024-04-29T12:11:38.618361Z",
     "start_time": "2024-04-29T12:11:38.614475Z"
    }
   },
   "id": "e55c008f59b101a7",
   "execution_count": 94
  },
  {
   "cell_type": "markdown",
   "source": [
    "## Evaluation"
   ],
   "metadata": {
    "collapsed": false
   },
   "id": "e677c11601b946f0"
  },
  {
   "cell_type": "code",
   "outputs": [],
   "source": [
    "# Initiate connection with Elasticsearch\n",
    "es_client = Elasticsearch(\n",
    "    f\"{config_file['protocol']}://{config_file['host']}:{config_file['port']}\",\n",
    "    ca_certs='../../ca.crt',\n",
    "    basic_auth=(config_file['user'], config_file['password'])\n",
    ")"
   ],
   "metadata": {
    "collapsed": false,
    "ExecuteTime": {
     "end_time": "2024-04-29T12:11:38.627355Z",
     "start_time": "2024-04-29T12:11:38.619818Z"
    }
   },
   "id": "bdf0379f7cbb06a3",
   "execution_count": 95
  },
  {
   "cell_type": "code",
   "outputs": [
    {
     "name": "stderr",
     "output_type": "stream",
     "text": [
      "100%|██████████| 943254/943254 [17:51<00:00, 880.11it/s] \n"
     ]
    }
   ],
   "source": [
    "def retrieve_all_ids():\n",
    "    mongo_ids = open('./data/mongo-ids.txt', mode='w+')\n",
    "    \n",
    "    for hit in tqdm(scan(es_client, index='apis', query={'query': {'match_all': {}}}), total=943254):\n",
    "        mongo_ids.write(f\"{hit['_source']['metadata']['mongo-id']}\\n\")\n",
    "    \n",
    "    mongo_ids.close()\n",
    "\n",
    "retrieve_all_ids()"
   ],
   "metadata": {
    "collapsed": false,
    "ExecuteTime": {
     "end_time": "2024-04-29T12:29:30.376182Z",
     "start_time": "2024-04-29T12:11:38.628888Z"
    }
   },
   "id": "ef6db8038f92af4d",
   "execution_count": 96
  },
  {
   "cell_type": "code",
   "outputs": [],
   "source": [
    "def retrieve_documents(n: int = 1000):\n",
    "    for i in range(n):\n",
    "        pass"
   ],
   "metadata": {
    "collapsed": false,
    "ExecuteTime": {
     "end_time": "2024-04-29T12:29:30.379334Z",
     "start_time": "2024-04-29T12:29:30.377132Z"
    }
   },
   "id": "8ae1346484fd8c0f",
   "execution_count": 97
  }
 ],
 "metadata": {
  "kernelspec": {
   "display_name": "Python 3",
   "language": "python",
   "name": "python3"
  },
  "language_info": {
   "codemirror_mode": {
    "name": "ipython",
    "version": 2
   },
   "file_extension": ".py",
   "mimetype": "text/x-python",
   "name": "python",
   "nbconvert_exporter": "python",
   "pygments_lexer": "ipython2",
   "version": "2.7.6"
  }
 },
 "nbformat": 4,
 "nbformat_minor": 5
}
