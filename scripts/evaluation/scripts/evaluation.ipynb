{
 "cells": [
  {
   "cell_type": "code",
   "execution_count": 386,
   "id": "initial_id",
   "metadata": {
    "collapsed": true,
    "ExecuteTime": {
     "end_time": "2024-05-01T09:42:09.909063Z",
     "start_time": "2024-05-01T09:42:09.901085Z"
    }
   },
   "outputs": [],
   "source": [
    "import math\n",
    "import json\n",
    "import random\n",
    "import requests\n",
    "\n",
    "from elasticsearch import Elasticsearch\n",
    "from elasticsearch.helpers import scan\n",
    "from yaml import safe_load\n",
    "from tqdm import tqdm\n",
    "from typing import TypedDict"
   ]
  },
  {
   "cell_type": "markdown",
   "source": [
    "## Configuration"
   ],
   "metadata": {
    "collapsed": false
   },
   "id": "34cb59a8e224f440"
  },
  {
   "cell_type": "code",
   "outputs": [],
   "source": [
    "# Retrieve configuration file for elastic\n",
    "with open('../../config/debug.config.yml') as config:\n",
    "    config_file = safe_load(config)['elastic']"
   ],
   "metadata": {
    "collapsed": false,
    "ExecuteTime": {
     "end_time": "2024-05-01T09:42:09.925029Z",
     "start_time": "2024-05-01T09:42:09.921795Z"
    }
   },
   "id": "e55c008f59b101a7",
   "execution_count": 387
  },
  {
   "cell_type": "markdown",
   "source": [
    "## Document Retrieval"
   ],
   "metadata": {
    "collapsed": false
   },
   "id": "e677c11601b946f0"
  },
  {
   "cell_type": "code",
   "outputs": [],
   "source": [
    "# Initiate connection with Elasticsearch\n",
    "es_client = Elasticsearch(\n",
    "    f\"{config_file['protocol']}://{config_file['host']}:{config_file['port']}\",\n",
    "    ca_certs='../../ca.crt',\n",
    "    basic_auth=(config_file['user'], config_file['password'])\n",
    ")"
   ],
   "metadata": {
    "collapsed": false,
    "ExecuteTime": {
     "end_time": "2024-05-01T09:42:09.939556Z",
     "start_time": "2024-05-01T09:42:09.931937Z"
    }
   },
   "id": "bdf0379f7cbb06a3",
   "execution_count": 388
  },
  {
   "cell_type": "code",
   "outputs": [
    {
     "name": "stderr",
     "output_type": "stream",
     "text": [
      "100%|██████████| 943254/943254 [05:51<00:00, 2682.81it/s]\n"
     ]
    }
   ],
   "source": [
    "# Retrieve all ids and save them in a file\n",
    "def retrieve_all_ids():\n",
    "    mongo_ids = open('./data/mongo-ids.txt', mode='w+')\n",
    "\n",
    "    for hit in tqdm(scan(es_client, index='apis', query={'query': {'match_all': {}}, 'fields': ['metadata.mongo-id', 'metadata.api.name'], \"_source\": False}), total=943254):\n",
    "        if hit['fields']['metadata'][0]['api'][0]['name'] != '':\n",
    "            mongo_ids.write(f\"{hit['fields']['metadata'][0]['mongo-id'][0]}\\n\")\n",
    "\n",
    "    mongo_ids.close()\n",
    "    \n",
    "retrieve_all_ids()"
   ],
   "metadata": {
    "collapsed": false,
    "ExecuteTime": {
     "end_time": "2024-05-01T09:48:01.537492Z",
     "start_time": "2024-05-01T09:42:09.940855Z"
    }
   },
   "id": "ef6db8038f92af4d",
   "execution_count": 389
  },
  {
   "cell_type": "code",
   "outputs": [],
   "source": [
    "class Document(TypedDict):\n",
    "    masked_words: str\n",
    "    mangled_words: str\n",
    "\n",
    "\n",
    "# Load saved ids and pseudo-randomly select `n`\n",
    "def retrieve_documents(n: int = 1000, percentage_to_remove: int = 30, percentage_to_mangle: int = 30, seed: int = None) -> dict[str, Document]:\n",
    "    retrieved: dict[str, Document] = {}\n",
    "    ids = open('./data/mongo-ids.txt').readlines()\n",
    "\n",
    "    if seed: random.seed(seed)\n",
    "    random.shuffle(ids)\n",
    "\n",
    "    for i in tqdm(range(n), desc=\"Retrieving documents\"):\n",
    "        res = requests.get(f'http://localhost:8080/api/v1/specification/{ids[i].strip()}')\n",
    "        specification = json.dumps(res.json()['specification']).replace('\\'', '\\\\\\'').replace('\\\\\\\"', '\\'')\n",
    "        preprocessed = requests.post('http://localhost:8080/api/v1/preprocess', json={'query': specification}).json()['query']\n",
    "\n",
    "        masked_words = mask_query(preprocessed, percentage_to_remove, seed=seed)\n",
    "        mangled_words = mangle_query(preprocessed, percentage_to_mangle, seed=seed)\n",
    "\n",
    "        retrieved[ids[i].strip()] = {\n",
    "            \"masked_words\": masked_words,\n",
    "            \"mangled_words\": mangled_words\n",
    "        }\n",
    "\n",
    "    return retrieved"
   ],
   "metadata": {
    "collapsed": false,
    "ExecuteTime": {
     "end_time": "2024-05-01T09:48:01.545073Z",
     "start_time": "2024-05-01T09:48:01.539183Z"
    }
   },
   "id": "8ae1346484fd8c0f",
   "execution_count": 390
  },
  {
   "cell_type": "markdown",
   "source": [
    "## Masking\n",
    "\n",
    "We randomly delete x% of the words or x% of the characters from the query and check if the system is still able to retrieve the correct document."
   ],
   "metadata": {
    "collapsed": false
   },
   "id": "9ad6965f16c544ca"
  },
  {
   "cell_type": "code",
   "outputs": [],
   "source": [
    "def mask_query(query: str, percentage_to_remove: int = 30, seed: int = None) -> str:\n",
    "    if seed: random.seed(seed)\n",
    "\n",
    "    split = query.split(\" \")\n",
    "    to_remove = random.sample(range(len(split)), math.floor(percentage_to_remove / 100 * len(split)))\n",
    "    new_population = [ind for i, ind in enumerate(split) if i not in to_remove]\n",
    "\n",
    "    return ' '.join(new_population)"
   ],
   "metadata": {
    "collapsed": false,
    "ExecuteTime": {
     "end_time": "2024-05-01T09:48:01.550621Z",
     "start_time": "2024-05-01T09:48:01.547184Z"
    }
   },
   "id": "6556d158698d0021",
   "execution_count": 391
  },
  {
   "cell_type": "markdown",
   "source": [
    "## Mangling\n",
    "\n",
    "We randomly change x% of the words or x% of the characters in the query and check if the system is still able to retrieve the correct document. If the mangling is done on the character level, then new random characters are inserted; if the mangling is done on the word level, synonyms are inserted."
   ],
   "metadata": {
    "collapsed": false
   },
   "id": "35dd49db3477d068"
  },
  {
   "cell_type": "code",
   "outputs": [],
   "source": [
    "def mangle_query(query: str, percentage_to_change: int = 30, seed: int = None) -> str:\n",
    "    if seed: random.seed(seed)\n",
    "\n",
    "    split = query.split(\" \")\n",
    "    \n",
    "    return \"\""
   ],
   "metadata": {
    "collapsed": false,
    "ExecuteTime": {
     "end_time": "2024-05-01T09:48:01.554258Z",
     "start_time": "2024-05-01T09:48:01.551675Z"
    }
   },
   "id": "71bb5c8786a76001",
   "execution_count": 392
  },
  {
   "cell_type": "code",
   "outputs": [
    {
     "name": "stderr",
     "output_type": "stream",
     "text": [
      "Retrieving documents: 100%|██████████| 385/385 [14:43<00:00,  2.29s/it]  \n",
      "Computing results: 100%|██████████| 385/385 [00:56<00:00,  6.77it/s]"
     ]
    },
    {
     "name": "stdout",
     "output_type": "stream",
     "text": [
      "0\n"
     ]
    },
    {
     "name": "stderr",
     "output_type": "stream",
     "text": [
      "\n"
     ]
    }
   ],
   "source": [
    "from functools import reduce\n",
    "\n",
    "\n",
    "# Population of 943'254, confidence level of 95%, and margin of error of 5% = 385 samples\n",
    "def perform_evaluation(sample_size: int, percentage_to_remove: int = 30, percentage_to_mangle: int = 30, seed: int = None):\n",
    "    documents = retrieve_documents(sample_size, percentage_to_remove, percentage_to_mangle, seed)\n",
    "    positions = [0 for _ in range(sample_size)]\n",
    "    \n",
    "    for ind, key in tqdm(enumerate(documents), total=sample_size, desc=\"Computing results\"):\n",
    "        search_res = requests.post('http://localhost:8080/api/v1/search', json={\n",
    "            'fragment': documents[key]['masked_words'],\n",
    "            'filters': 'length>=0'\n",
    "        }).json()\n",
    "        \n",
    "        for ind1, hit in enumerate(search_res):\n",
    "            if hit['metadata']['mongo-id'] == key:\n",
    "                positions[ind] = ind1\n",
    "        \n",
    "    print(reduce(lambda acc, x: acc+1 if x>0 else acc, positions, 0))\n",
    "\n",
    "perform_evaluation(385, 80, 80)"
   ],
   "metadata": {
    "collapsed": false,
    "ExecuteTime": {
     "end_time": "2024-05-01T10:07:50.700128Z",
     "start_time": "2024-05-01T09:52:09.634304Z"
    }
   },
   "id": "2fcb142c5460b47d",
   "execution_count": 394
  },
  {
   "cell_type": "code",
   "outputs": [],
   "source": [],
   "metadata": {
    "collapsed": false,
    "ExecuteTime": {
     "end_time": "2024-05-01T09:48:02.265558Z",
     "start_time": "2024-05-01T09:48:02.265293Z"
    }
   },
   "id": "ab62cf5456e693f6"
  }
 ],
 "metadata": {
  "kernelspec": {
   "display_name": "Python 3",
   "language": "python",
   "name": "python3"
  },
  "language_info": {
   "codemirror_mode": {
    "name": "ipython",
    "version": 2
   },
   "file_extension": ".py",
   "mimetype": "text/x-python",
   "name": "python",
   "nbconvert_exporter": "python",
   "pygments_lexer": "ipython2",
   "version": "2.7.6"
  }
 },
 "nbformat": 4,
 "nbformat_minor": 5
}
